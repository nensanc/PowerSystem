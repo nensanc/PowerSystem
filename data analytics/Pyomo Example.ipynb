{
 "cells": [
  {
   "cell_type": "markdown",
   "metadata": {},
   "source": [
    "# Pyomo Examples "
   ]
  },
  {
   "cell_type": "code",
   "execution_count": 1,
   "metadata": {},
   "outputs": [],
   "source": [
    "import pyomo.environ as pyomo\n",
    "from pandas import DataFrame"
   ]
  },
  {
   "cell_type": "code",
   "execution_count": 11,
   "metadata": {},
   "outputs": [],
   "source": [
    "model = pyomo.ConcreteModel();\n",
    "model.ij = pyomo.Set(initialize=[(1,2), (2,3), (3,4)])"
   ]
  },
  {
   "cell_type": "code",
   "execution_count": 14,
   "metadata": {},
   "outputs": [
    {
     "name": "stdout",
     "output_type": "stream",
     "text": [
      "ij : Size=1, Index=None, Ordered=Insertion\n",
      "    Key  : Dimen : Domain : Size : Members\n",
      "    None :     2 :    Any :    3 : {(1, 2), (2, 3), (3, 4)}\n"
     ]
    }
   ],
   "source": [
    "model.ij.display()"
   ]
  },
  {
   "cell_type": "code",
   "execution_count": 2,
   "metadata": {},
   "outputs": [
    {
     "name": "stdout",
     "output_type": "stream",
     "text": [
      "ERROR: Rule failed when initializing variable for Var x1 with index 4-5:\n",
      "    KeyError: \"Index '4-5' is not valid for indexed component 'x1'\"\n",
      "ERROR: Constructing component 'x1' from data=None failed: KeyError: \"Index\n",
      "    '4-5' is not valid for indexed component 'x1'\"\n"
     ]
    },
    {
     "ename": "KeyError",
     "evalue": "\"Index '4-5' is not valid for indexed component 'x1'\"",
     "output_type": "error",
     "traceback": [
      "\u001b[1;31m---------------------------------------------------------------------------\u001b[0m",
      "\u001b[1;31mKeyError\u001b[0m                                  Traceback (most recent call last)",
      "Cell \u001b[1;32mIn[2], line 8\u001b[0m\n\u001b[0;32m      6\u001b[0m model\u001b[39m.\u001b[39mj \u001b[39m=\u001b[39m pyomo\u001b[39m.\u001b[39mSet(initialize\u001b[39m=\u001b[39m[\u001b[39m'\u001b[39m\u001b[39m2\u001b[39m\u001b[39m'\u001b[39m, \u001b[39m'\u001b[39m\u001b[39m3\u001b[39m\u001b[39m'\u001b[39m, \u001b[39m'\u001b[39m\u001b[39m4\u001b[39m\u001b[39m'\u001b[39m])\n\u001b[0;32m      7\u001b[0m d \u001b[39m=\u001b[39m {\u001b[39m'\u001b[39m\u001b[39m1-2\u001b[39m\u001b[39m'\u001b[39m:\u001b[39m1\u001b[39m, \u001b[39m'\u001b[39m\u001b[39m2-3\u001b[39m\u001b[39m'\u001b[39m:\u001b[39m2\u001b[39m, \u001b[39m'\u001b[39m\u001b[39m3-4\u001b[39m\u001b[39m'\u001b[39m:\u001b[39m3\u001b[39m, \u001b[39m'\u001b[39m\u001b[39m4-5\u001b[39m\u001b[39m'\u001b[39m:\u001b[39m4\u001b[39m}\n\u001b[1;32m----> 8\u001b[0m model\u001b[39m.\u001b[39;49mx1 \u001b[39m=\u001b[39m pyomo\u001b[39m.\u001b[39mVar(model\u001b[39m.\u001b[39mij, initialize\u001b[39m=\u001b[39md);\n\u001b[0;32m      9\u001b[0m model\u001b[39m.\u001b[39mx2 \u001b[39m=\u001b[39m pyomo\u001b[39m.\u001b[39mVar(model\u001b[39m.\u001b[39mi);\n\u001b[0;32m     10\u001b[0m model\u001b[39m.\u001b[39mx3 \u001b[39m=\u001b[39m pyomo\u001b[39m.\u001b[39mVar(model\u001b[39m.\u001b[39mj);\n",
      "File \u001b[1;32mc:\\Users\\nensa\\AppData\\Local\\Programs\\Python\\Python311\\Lib\\site-packages\\pyomo\\core\\base\\block.py:649\u001b[0m, in \u001b[0;36m_BlockData.__setattr__\u001b[1;34m(self, name, val)\u001b[0m\n\u001b[0;32m    644\u001b[0m \u001b[39mif\u001b[39;00m name \u001b[39mnot\u001b[39;00m \u001b[39min\u001b[39;00m \u001b[39mself\u001b[39m\u001b[39m.\u001b[39m\u001b[39m__dict__\u001b[39m:\n\u001b[0;32m    645\u001b[0m     \u001b[39mif\u001b[39;00m \u001b[39misinstance\u001b[39m(val, Component):\n\u001b[0;32m    646\u001b[0m         \u001b[39m#\u001b[39;00m\n\u001b[0;32m    647\u001b[0m         \u001b[39m# Pyomo components are added with the add_component method.\u001b[39;00m\n\u001b[0;32m    648\u001b[0m         \u001b[39m#\u001b[39;00m\n\u001b[1;32m--> 649\u001b[0m         \u001b[39mself\u001b[39;49m\u001b[39m.\u001b[39;49madd_component(name, val)\n\u001b[0;32m    650\u001b[0m     \u001b[39melse\u001b[39;00m:\n\u001b[0;32m    651\u001b[0m         \u001b[39m#\u001b[39;00m\n\u001b[0;32m    652\u001b[0m         \u001b[39m# Other Python objects are added with the standard __setattr__\u001b[39;00m\n\u001b[0;32m    653\u001b[0m         \u001b[39m# method.\u001b[39;00m\n\u001b[0;32m    654\u001b[0m         \u001b[39m#\u001b[39;00m\n\u001b[0;32m    655\u001b[0m         \u001b[39msuper\u001b[39m(_BlockData, \u001b[39mself\u001b[39m)\u001b[39m.\u001b[39m\u001b[39m__setattr__\u001b[39m(name, val)\n",
      "File \u001b[1;32mc:\\Users\\nensa\\AppData\\Local\\Programs\\Python\\Python311\\Lib\\site-packages\\pyomo\\core\\base\\block.py:1219\u001b[0m, in \u001b[0;36m_BlockData.add_component\u001b[1;34m(self, name, val)\u001b[0m\n\u001b[0;32m   1215\u001b[0m     logger\u001b[39m.\u001b[39mdebug(\u001b[39m\"\u001b[39m\u001b[39mConstructing \u001b[39m\u001b[39m%s\u001b[39;00m\u001b[39m \u001b[39m\u001b[39m'\u001b[39m\u001b[39m%s\u001b[39;00m\u001b[39m'\u001b[39m\u001b[39m on \u001b[39m\u001b[39m%s\u001b[39;00m\u001b[39m from data=\u001b[39m\u001b[39m%s\u001b[39;00m\u001b[39m\"\u001b[39m,\n\u001b[0;32m   1216\u001b[0m                  val\u001b[39m.\u001b[39m\u001b[39m__class__\u001b[39m\u001b[39m.\u001b[39m\u001b[39m__name__\u001b[39m, name,\n\u001b[0;32m   1217\u001b[0m                  _blockName, \u001b[39mstr\u001b[39m(data))\n\u001b[0;32m   1218\u001b[0m \u001b[39mtry\u001b[39;00m:\n\u001b[1;32m-> 1219\u001b[0m     val\u001b[39m.\u001b[39;49mconstruct(data)\n\u001b[0;32m   1220\u001b[0m \u001b[39mexcept\u001b[39;00m:\n\u001b[0;32m   1221\u001b[0m     err \u001b[39m=\u001b[39m sys\u001b[39m.\u001b[39mexc_info()[\u001b[39m1\u001b[39m]\n",
      "File \u001b[1;32mc:\\Users\\nensa\\AppData\\Local\\Programs\\Python\\Python311\\Lib\\site-packages\\pyomo\\core\\base\\var.py:706\u001b[0m, in \u001b[0;36mVar.construct\u001b[1;34m(self, data)\u001b[0m\n\u001b[0;32m    704\u001b[0m \u001b[39m# The index is coming in externally; we need to validate it\u001b[39;00m\n\u001b[0;32m    705\u001b[0m \u001b[39mfor\u001b[39;00m index \u001b[39min\u001b[39;00m \u001b[39mself\u001b[39m\u001b[39m.\u001b[39m_rule_init\u001b[39m.\u001b[39mindices():\n\u001b[1;32m--> 706\u001b[0m     \u001b[39mself\u001b[39;49m[index]\n\u001b[0;32m    707\u001b[0m \u001b[39m# If this is a dense object, we need to ensure that it\u001b[39;00m\n\u001b[0;32m    708\u001b[0m \u001b[39m# has been filled in.\u001b[39;00m\n\u001b[0;32m    709\u001b[0m \u001b[39mif\u001b[39;00m \u001b[39mself\u001b[39m\u001b[39m.\u001b[39m_dense:\n",
      "File \u001b[1;32mc:\\Users\\nensa\\AppData\\Local\\Programs\\Python\\Python311\\Lib\\site-packages\\pyomo\\core\\base\\var.py:932\u001b[0m, in \u001b[0;36mIndexedVar.__getitem__\u001b[1;34m(self, args)\u001b[0m\n\u001b[0;32m    930\u001b[0m \u001b[39mdef\u001b[39;00m \u001b[39m__getitem__\u001b[39m(\u001b[39mself\u001b[39m, args):\n\u001b[0;32m    931\u001b[0m     \u001b[39mtry\u001b[39;00m:\n\u001b[1;32m--> 932\u001b[0m         \u001b[39mreturn\u001b[39;00m \u001b[39msuper\u001b[39;49m()\u001b[39m.\u001b[39;49m\u001b[39m__getitem__\u001b[39;49m(args)\n\u001b[0;32m    933\u001b[0m     \u001b[39mexcept\u001b[39;00m \u001b[39mRuntimeError\u001b[39;00m:\n\u001b[0;32m    934\u001b[0m         tmp \u001b[39m=\u001b[39m args \u001b[39mif\u001b[39;00m args\u001b[39m.\u001b[39m\u001b[39m__class__\u001b[39m \u001b[39mis\u001b[39;00m \u001b[39mtuple\u001b[39m \u001b[39melse\u001b[39;00m (args,)\n",
      "File \u001b[1;32mc:\\Users\\nensa\\AppData\\Local\\Programs\\Python\\Python311\\Lib\\site-packages\\pyomo\\core\\base\\indexed_component.py:563\u001b[0m, in \u001b[0;36mIndexedComponent.__getitem__\u001b[1;34m(self, index)\u001b[0m\n\u001b[0;32m    561\u001b[0m \u001b[39mif\u001b[39;00m index\u001b[39m.\u001b[39m\u001b[39m__class__\u001b[39m \u001b[39mis\u001b[39;00m EXPR\u001b[39m.\u001b[39mGetItemExpression:\n\u001b[0;32m    562\u001b[0m     \u001b[39mreturn\u001b[39;00m index\n\u001b[1;32m--> 563\u001b[0m validated_index \u001b[39m=\u001b[39m \u001b[39mself\u001b[39;49m\u001b[39m.\u001b[39;49m_validate_index(index)\n\u001b[0;32m    564\u001b[0m \u001b[39mif\u001b[39;00m validated_index \u001b[39mis\u001b[39;00m \u001b[39mnot\u001b[39;00m index:\n\u001b[0;32m    565\u001b[0m     index \u001b[39m=\u001b[39m validated_index\n",
      "File \u001b[1;32mc:\\Users\\nensa\\AppData\\Local\\Programs\\Python\\Python311\\Lib\\site-packages\\pyomo\\core\\base\\indexed_component.py:788\u001b[0m, in \u001b[0;36mIndexedComponent._validate_index\u001b[1;34m(self, idx)\u001b[0m\n\u001b[0;32m    782\u001b[0m     \u001b[39mraise\u001b[39;00m \u001b[39mKeyError\u001b[39;00m(\n\u001b[0;32m    783\u001b[0m         \u001b[39m\"\u001b[39m\u001b[39mCannot treat the scalar component \u001b[39m\u001b[39m'\u001b[39m\u001b[39m%s\u001b[39;00m\u001b[39m'\u001b[39m\u001b[39m \u001b[39m\u001b[39m\"\u001b[39m\n\u001b[0;32m    784\u001b[0m         \u001b[39m\"\u001b[39m\u001b[39mas an indexed component\u001b[39m\u001b[39m\"\u001b[39m \u001b[39m%\u001b[39m ( \u001b[39mself\u001b[39m\u001b[39m.\u001b[39mname, ))\n\u001b[0;32m    785\u001b[0m \u001b[39m#\u001b[39;00m\n\u001b[0;32m    786\u001b[0m \u001b[39m# Raise an exception\u001b[39;00m\n\u001b[0;32m    787\u001b[0m \u001b[39m#\u001b[39;00m\n\u001b[1;32m--> 788\u001b[0m \u001b[39mraise\u001b[39;00m \u001b[39mKeyError\u001b[39;00m(\n\u001b[0;32m    789\u001b[0m     \u001b[39m\"\u001b[39m\u001b[39mIndex \u001b[39m\u001b[39m'\u001b[39m\u001b[39m%s\u001b[39;00m\u001b[39m'\u001b[39m\u001b[39m is not valid for indexed component \u001b[39m\u001b[39m'\u001b[39m\u001b[39m%s\u001b[39;00m\u001b[39m'\u001b[39m\u001b[39m\"\u001b[39m\n\u001b[0;32m    790\u001b[0m     \u001b[39m%\u001b[39m ( idx, \u001b[39mself\u001b[39m\u001b[39m.\u001b[39mname, ))\n",
      "\u001b[1;31mKeyError\u001b[0m: \"Index '4-5' is not valid for indexed component 'x1'\""
     ]
    }
   ],
   "source": [
    "model = pyomo.ConcreteModel();\n",
    "\n",
    "#Variable declaration\n",
    "model.ij = pyomo.Set(initialize=['1-2', '2-3', '3-4'])\n",
    "model.i = pyomo.Set(initialize=['1', '2', '3'])\n",
    "model.j = pyomo.Set(initialize=['2', '3', '4'])\n",
    "d = {'1-2':1, '2-3':2, '3-4':3, '4-5':4}\n",
    "model.x1 = pyomo.Var(model.ij, initialize=d);\n",
    "model.x2 = pyomo.Var(model.i);\n",
    "model.x3 = pyomo.Var(model.j);\n",
    "\n",
    "\n",
    "#Objective function definition\n",
    "def objetive(model):\n",
    "    return sum(model.x1[ij] for ij in model.ij)\n",
    "model.obj = pyomo.Objective(expr=objetive, sense = pyomo.minimize);\n",
    "\n",
    "# #Constraint definition\n",
    "# def rule1(model, i, j):\n",
    "#     return model.x2[i,j] + model.x2[i,j] >= 28\n",
    "# model.eq1 = pyomo.Constraint(model.i, model.j, rule=rule1, doc = 'Constraint  1');\n",
    "\n",
    "#Constraint definition\n",
    "def rule2(model, ij):\n",
    "    return model.x2[ij[0]] + model.x3[ij[2]] <= 58\n",
    "model.eq2 = pyomo.Constraint(model.ij, rule=rule2, doc = 'Constraint  2');"
   ]
  },
  {
   "cell_type": "code",
   "execution_count": null,
   "metadata": {},
   "outputs": [],
   "source": [
    "#Solver options\n",
    "results = pyomo.SolverFactory('../solver/bonmin').solve(model);"
   ]
  },
  {
   "cell_type": "code",
   "execution_count": 57,
   "metadata": {},
   "outputs": [],
   "source": [
    "model = pyomo.ConcreteModel();\n",
    "\n",
    "#Variable declaration\n",
    "model.i = pyomo.Set(initialize=[1, 2, 3])\n",
    "model.j = pyomo.Set(initialize=[1, 2, 3])\n",
    "model.x1 = pyomo.Var(model.i, model.j);\n",
    "model.x2 = pyomo.Var(model.i, model.j);\n",
    "\n",
    "#Objective function definition\n",
    "def objetive(model):\n",
    "    return sum(model.x1[i,j]+model.x2[i,j] for i in model.i for j in model.j)\n",
    "model.obj = pyomo.Objective(expr=objetive, sense = pyomo.minimize);\n",
    "\n",
    "#Constraint definition\n",
    "def rule1(model, i, j):\n",
    "    return model.x1[i,j] + model.x2[i,j] >= 28\n",
    "model.eq1 = pyomo.Constraint(model.i, model.j, rule=rule1, doc = 'Constraint  1');\n",
    "\n",
    "#Constraint definition\n",
    "def rule2(model, i, j):\n",
    "    return model.x1[i,j] + model.x2[i,j] <= 58\n",
    "model.eq2 = pyomo.Constraint(model.i, model.j, rule=rule2, doc = 'Constraint  2');"
   ]
  },
  {
   "cell_type": "code",
   "execution_count": 58,
   "metadata": {},
   "outputs": [],
   "source": [
    "#Solver options\n",
    "results = pyomo.SolverFactory('../solver/bonmin').solve(model);"
   ]
  },
  {
   "cell_type": "code",
   "execution_count": 59,
   "metadata": {},
   "outputs": [
    {
     "data": {
      "text/plain": [
       "True"
      ]
     },
     "execution_count": 59,
     "metadata": {},
     "output_type": "execute_result"
    }
   ],
   "source": [
    "results.solver.status.value=='ok'"
   ]
  },
  {
   "cell_type": "code",
   "execution_count": 74,
   "metadata": {},
   "outputs": [
    {
     "name": "stdout",
     "output_type": "stream",
     "text": [
      "x1         0     1\n",
      "0  (1, 1)  14.0\n",
      "1  (1, 2)  14.0\n",
      "2  (1, 3)  14.0\n",
      "3  (2, 1)  14.0\n",
      "4  (2, 2)  14.0\n",
      "5  (2, 3)  14.0\n",
      "6  (3, 1)  14.0\n",
      "7  (3, 2)  14.0\n",
      "8  (3, 3)  14.0\n"
     ]
    }
   ],
   "source": [
    "v = list(model.component_objects(pyomo.Var, active=True))\n",
    "for e in v:\n",
    "    df = DataFrame(list(e.get_values().items()))\n",
    "    print(e.name, df)\n",
    "    break"
   ]
  },
  {
   "cell_type": "code",
   "execution_count": 13,
   "metadata": {},
   "outputs": [
    {
     "name": "stdout",
     "output_type": "stream",
     "text": [
      "# ==========================================================\n",
      "# = Solver Results                                         =\n",
      "# ==========================================================\n",
      "# ----------------------------------------------------------\n",
      "#   Problem Information\n",
      "# ----------------------------------------------------------\n",
      "Problem: \n",
      "- Lower bound: -inf\n",
      "  Upper bound: inf\n",
      "  Number of objectives: 1\n",
      "  Number of constraints: 0\n",
      "  Number of variables: 2\n",
      "  Sense: unknown\n",
      "# ----------------------------------------------------------\n",
      "#   Solver Information\n",
      "# ----------------------------------------------------------\n",
      "Solver: \n",
      "- Status: ok\n",
      "  Message: bonmin\\x3a Optimal\n",
      "  Termination condition: optimal\n",
      "  Id: 3\n",
      "  Error rc: 0\n",
      "  Time: 0.06319355964660645\n",
      "# ----------------------------------------------------------\n",
      "#   Solution Information\n",
      "# ----------------------------------------------------------\n",
      "Solution: \n",
      "- number of solutions: 0\n",
      "  number of solutions displayed: 0\n",
      "\n",
      " RESULTS \n",
      "\n",
      "Cost of advertisement campaign =  23.99999976001\n",
      "Number of comedy ads purchased =  110.95547083642911\n",
      "Number of football ads purchased =  -86.95547107641912\n"
     ]
    }
   ],
   "source": [
    "results.write()\n",
    "print(\"\\n RESULTS \\n\");\n",
    "\n",
    "print('Cost of advertisement campaign = ', model.obj())\n",
    "print(\"Number of comedy ads purchased = \", model.x1())\n",
    "print(\"Number of football ads purchased = \", model.x2())"
   ]
  }
 ],
 "metadata": {
  "kernelspec": {
   "display_name": "Python 3",
   "language": "python",
   "name": "python3"
  },
  "language_info": {
   "codemirror_mode": {
    "name": "ipython",
    "version": 3
   },
   "file_extension": ".py",
   "mimetype": "text/x-python",
   "name": "python",
   "nbconvert_exporter": "python",
   "pygments_lexer": "ipython3",
   "version": "3.11.2"
  },
  "orig_nbformat": 4,
  "vscode": {
   "interpreter": {
    "hash": "0778b2c0c0fa361f993cfe8f37eb7732cf563f2dc4a5ec3745b179f0cd06f39a"
   }
  }
 },
 "nbformat": 4,
 "nbformat_minor": 2
}

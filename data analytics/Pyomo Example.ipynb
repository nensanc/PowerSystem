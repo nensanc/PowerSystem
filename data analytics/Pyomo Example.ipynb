{
 "cells": [
  {
   "cell_type": "markdown",
   "metadata": {},
   "source": [
    "# Pyomo Examples "
   ]
  },
  {
   "cell_type": "code",
   "execution_count": 1,
   "metadata": {},
   "outputs": [],
   "source": [
    "import pyomo.environ as pyomo\n",
    "from pandas import DataFrame"
   ]
  },
  {
   "cell_type": "code",
   "execution_count": 11,
   "metadata": {},
   "outputs": [],
   "source": [
    "model = pyomo.ConcreteModel();\n",
    "model.ij = pyomo.Set(initialize=[(1,2), (2,3), (3,4)])"
   ]
  },
  {
   "cell_type": "code",
   "execution_count": 14,
   "metadata": {},
   "outputs": [
    {
     "name": "stdout",
     "output_type": "stream",
     "text": [
      "ij : Size=1, Index=None, Ordered=Insertion\n",
      "    Key  : Dimen : Domain : Size : Members\n",
      "    None :     2 :    Any :    3 : {(1, 2), (2, 3), (3, 4)}\n"
     ]
    }
   ],
   "source": [
    "model.ij.display()"
   ]
  },
  {
   "cell_type": "code",
   "execution_count": 20,
   "metadata": {},
   "outputs": [],
   "source": [
    "model = pyomo.ConcreteModel();\n",
    "\n",
    "#Variable declaration\n",
    "model.ij = pyomo.Set(initialize=['1-2', '2-3', '3-4'])\n",
    "model.i = pyomo.Set(initialize=['1', '2', '3'])\n",
    "model.j = pyomo.Set(initialize=['2', '3', '4'])\n",
    "model.x1 = pyomo.Var(model.ij);\n",
    "model.x2 = pyomo.Var(model.i);\n",
    "model.x3 = pyomo.Var(model.j);\n",
    "\n",
    "\n",
    "#Objective function definition\n",
    "def objetive(model):\n",
    "    return sum(model.x1[ij] for ij in model.ij)\n",
    "model.obj = pyomo.Objective(expr=objetive, sense = pyomo.minimize);\n",
    "\n",
    "# #Constraint definition\n",
    "# def rule1(model, i, j):\n",
    "#     return model.x2[i,j] + model.x2[i,j] >= 28\n",
    "# model.eq1 = pyomo.Constraint(model.i, model.j, rule=rule1, doc = 'Constraint  1');\n",
    "\n",
    "#Constraint definition\n",
    "def rule2(model, ij):\n",
    "    return model.x2[ij[0]] + model.x3[ij[2]] <= 58\n",
    "model.eq2 = pyomo.Constraint(model.ij, rule=rule2, doc = 'Constraint  2');"
   ]
  },
  {
   "cell_type": "code",
   "execution_count": null,
   "metadata": {},
   "outputs": [],
   "source": [
    "#Solver options\n",
    "results = pyomo.SolverFactory('../solver/bonmin').solve(model);"
   ]
  },
  {
   "cell_type": "code",
   "execution_count": 57,
   "metadata": {},
   "outputs": [],
   "source": [
    "model = pyomo.ConcreteModel();\n",
    "\n",
    "#Variable declaration\n",
    "model.i = pyomo.Set(initialize=[1, 2, 3])\n",
    "model.j = pyomo.Set(initialize=[1, 2, 3])\n",
    "model.x1 = pyomo.Var(model.i, model.j);\n",
    "model.x2 = pyomo.Var(model.i, model.j);\n",
    "\n",
    "#Objective function definition\n",
    "def objetive(model):\n",
    "    return sum(model.x1[i,j]+model.x2[i,j] for i in model.i for j in model.j)\n",
    "model.obj = pyomo.Objective(expr=objetive, sense = pyomo.minimize);\n",
    "\n",
    "#Constraint definition\n",
    "def rule1(model, i, j):\n",
    "    return model.x1[i,j] + model.x2[i,j] >= 28\n",
    "model.eq1 = pyomo.Constraint(model.i, model.j, rule=rule1, doc = 'Constraint  1');\n",
    "\n",
    "#Constraint definition\n",
    "def rule2(model, i, j):\n",
    "    return model.x1[i,j] + model.x2[i,j] <= 58\n",
    "model.eq2 = pyomo.Constraint(model.i, model.j, rule=rule2, doc = 'Constraint  2');"
   ]
  },
  {
   "cell_type": "code",
   "execution_count": 58,
   "metadata": {},
   "outputs": [],
   "source": [
    "#Solver options\n",
    "results = pyomo.SolverFactory('../solver/bonmin').solve(model);"
   ]
  },
  {
   "cell_type": "code",
   "execution_count": 59,
   "metadata": {},
   "outputs": [
    {
     "data": {
      "text/plain": [
       "True"
      ]
     },
     "execution_count": 59,
     "metadata": {},
     "output_type": "execute_result"
    }
   ],
   "source": [
    "results.solver.status.value=='ok'"
   ]
  },
  {
   "cell_type": "code",
   "execution_count": 74,
   "metadata": {},
   "outputs": [
    {
     "name": "stdout",
     "output_type": "stream",
     "text": [
      "x1         0     1\n",
      "0  (1, 1)  14.0\n",
      "1  (1, 2)  14.0\n",
      "2  (1, 3)  14.0\n",
      "3  (2, 1)  14.0\n",
      "4  (2, 2)  14.0\n",
      "5  (2, 3)  14.0\n",
      "6  (3, 1)  14.0\n",
      "7  (3, 2)  14.0\n",
      "8  (3, 3)  14.0\n"
     ]
    }
   ],
   "source": [
    "v = list(model.component_objects(pyomo.Var, active=True))\n",
    "for e in v:\n",
    "    df = DataFrame(list(e.get_values().items()))\n",
    "    print(e.name, df)\n",
    "    break"
   ]
  },
  {
   "cell_type": "code",
   "execution_count": 13,
   "metadata": {},
   "outputs": [
    {
     "name": "stdout",
     "output_type": "stream",
     "text": [
      "# ==========================================================\n",
      "# = Solver Results                                         =\n",
      "# ==========================================================\n",
      "# ----------------------------------------------------------\n",
      "#   Problem Information\n",
      "# ----------------------------------------------------------\n",
      "Problem: \n",
      "- Lower bound: -inf\n",
      "  Upper bound: inf\n",
      "  Number of objectives: 1\n",
      "  Number of constraints: 0\n",
      "  Number of variables: 2\n",
      "  Sense: unknown\n",
      "# ----------------------------------------------------------\n",
      "#   Solver Information\n",
      "# ----------------------------------------------------------\n",
      "Solver: \n",
      "- Status: ok\n",
      "  Message: bonmin\\x3a Optimal\n",
      "  Termination condition: optimal\n",
      "  Id: 3\n",
      "  Error rc: 0\n",
      "  Time: 0.06319355964660645\n",
      "# ----------------------------------------------------------\n",
      "#   Solution Information\n",
      "# ----------------------------------------------------------\n",
      "Solution: \n",
      "- number of solutions: 0\n",
      "  number of solutions displayed: 0\n",
      "\n",
      " RESULTS \n",
      "\n",
      "Cost of advertisement campaign =  23.99999976001\n",
      "Number of comedy ads purchased =  110.95547083642911\n",
      "Number of football ads purchased =  -86.95547107641912\n"
     ]
    }
   ],
   "source": [
    "results.write()\n",
    "print(\"\\n RESULTS \\n\");\n",
    "\n",
    "print('Cost of advertisement campaign = ', model.obj())\n",
    "print(\"Number of comedy ads purchased = \", model.x1())\n",
    "print(\"Number of football ads purchased = \", model.x2())"
   ]
  }
 ],
 "metadata": {
  "kernelspec": {
   "display_name": "Python 3",
   "language": "python",
   "name": "python3"
  },
  "language_info": {
   "codemirror_mode": {
    "name": "ipython",
    "version": 3
   },
   "file_extension": ".py",
   "mimetype": "text/x-python",
   "name": "python",
   "nbconvert_exporter": "python",
   "pygments_lexer": "ipython3",
   "version": "3.11.2"
  },
  "orig_nbformat": 4,
  "vscode": {
   "interpreter": {
    "hash": "0778b2c0c0fa361f993cfe8f37eb7732cf563f2dc4a5ec3745b179f0cd06f39a"
   }
  }
 },
 "nbformat": 4,
 "nbformat_minor": 2
}

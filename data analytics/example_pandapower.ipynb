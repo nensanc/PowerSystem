{
 "cells": [
  {
   "cell_type": "code",
   "execution_count": 25,
   "metadata": {},
   "outputs": [
    {
     "name": "stderr",
     "output_type": "stream",
     "text": [
      "numba cannot be imported and numba functions are disabled.\n",
      "Probably the execution is slow.\n",
      "Please install numba to gain a massive speedup.\n",
      "(or if you prefer slow execution, set the flag numba=False to avoid this warning!)\n",
      "\n"
     ]
    },
    {
     "data": {
      "text/plain": [
       "This pandapower network includes the following parameter tables:\n",
       "   - bus (9 elements)\n",
       "   - load (3 elements)\n",
       "   - gen (2 elements)\n",
       "   - ext_grid (1 element)\n",
       "   - line (9 elements)\n",
       "   - poly_cost (3 elements)\n",
       "   - bus_geodata (9 elements)\n",
       " and the following results tables:\n",
       "   - res_bus (9 elements)\n",
       "   - res_line (9 elements)\n",
       "   - res_ext_grid (1 element)\n",
       "   - res_load (3 elements)\n",
       "   - res_gen (2 elements)"
      ]
     },
     "execution_count": 25,
     "metadata": {},
     "output_type": "execute_result"
    }
   ],
   "source": [
    "# Definición de variables \n",
    "import pandapower.networks as pp_net\n",
    "import pandapower as pp\n",
    "from pandapower.grid_equivalents import get_equivalent\n",
    "from pandas import read_csv\n",
    "import matplotlib.pyplot as plt\n",
    "import numpy as np\n",
    "# cargamos el modelo eléctrico \n",
    "net = pp_net.case9()\n",
    "net.line.iloc[:, list(net.line.columns).index('max_i_ka')] = net.line.iloc[:, list(net.line.columns).index('max_i_ka')]\n",
    "net.bus.iloc[:, list(net.bus.columns).index('max_vm_pu')] = 1.1\n",
    "net.bus.iloc[:, list(net.bus.columns).index('min_vm_pu')] = 0.9\n",
    "pp.runpp(net)\n",
    "net"
   ]
  },
  {
   "cell_type": "code",
   "execution_count": 28,
   "metadata": {},
   "outputs": [
    {
     "data": {
      "text/plain": [
       "0"
      ]
     },
     "execution_count": 28,
     "metadata": {},
     "output_type": "execute_result"
    }
   ],
   "source": [
    "net.trafo['hv_bus'].shape[0]"
   ]
  },
  {
   "cell_type": "code",
   "execution_count": 7,
   "metadata": {},
   "outputs": [
    {
     "name": "stderr",
     "output_type": "stream",
     "text": [
      "numba cannot be imported and numba functions are disabled.\n",
      "Probably the execution is slow.\n",
      "Please install numba to gain a massive speedup.\n",
      "(or if you prefer slow execution, set the flag numba=False to avoid this warning!)\n",
      "\n",
      "numba cannot be imported and numba functions are disabled.\n",
      "Probably the execution is slow.\n",
      "Please install numba to gain a massive speedup.\n",
      "(or if you prefer slow execution, set the flag numba=False to avoid this warning!)\n",
      "\n",
      "numba cannot be imported and numba functions are disabled.\n",
      "Probably the execution is slow.\n",
      "Please install numba to gain a massive speedup.\n",
      "(or if you prefer slow execution, set the flag numba=False to avoid this warning!)\n",
      "\n",
      "numba cannot be imported and numba functions are disabled.\n",
      "Probably the execution is slow.\n",
      "Please install numba to gain a massive speedup.\n",
      "(or if you prefer slow execution, set the flag numba=False to avoid this warning!)\n",
      "\n"
     ]
    }
   ],
   "source": [
    "# equivalent type\n",
    "eq_type = \"ward\"\n",
    "internal_buses = [5]\n",
    "boundary_buses = [4,8]\n",
    "net_eq = get_equivalent(net, eq_type, boundary_buses, internal_buses)"
   ]
  },
  {
   "cell_type": "code",
   "execution_count": 30,
   "metadata": {},
   "outputs": [
    {
     "data": {
      "text/plain": [
       "This pandapower network includes the following parameter tables:\n",
       "   - bus (8 elements)\n",
       "   - load (3 elements)\n",
       "   - gen (2 elements)\n",
       "   - ext_grid (1 element)\n",
       "   - line (6 elements)\n",
       "   - impedance (3 elements)\n",
       "   - ward (3 elements)\n",
       "   - poly_cost (2 elements)\n",
       "   - group (2 elements)\n",
       "   - bus_geodata (8 elements)\n",
       " and the following results tables:\n",
       "   - res_bus (8 elements)\n",
       "   - res_line (6 elements)\n",
       "   - res_impedance (3 elements)\n",
       "   - res_ext_grid (1 element)\n",
       "   - res_load (3 elements)\n",
       "   - res_gen (2 elements)\n",
       "   - res_ward (3 elements)"
      ]
     },
     "execution_count": 30,
     "metadata": {},
     "output_type": "execute_result"
    }
   ],
   "source": [
    "net_eq"
   ]
  },
  {
   "cell_type": "code",
   "execution_count": 31,
   "metadata": {},
   "outputs": [
    {
     "data": {
      "text/html": [
       "<div>\n",
       "<style scoped>\n",
       "    .dataframe tbody tr th:only-of-type {\n",
       "        vertical-align: middle;\n",
       "    }\n",
       "\n",
       "    .dataframe tbody tr th {\n",
       "        vertical-align: top;\n",
       "    }\n",
       "\n",
       "    .dataframe thead th {\n",
       "        text-align: right;\n",
       "    }\n",
       "</style>\n",
       "<table border=\"1\" class=\"dataframe\">\n",
       "  <thead>\n",
       "    <tr style=\"text-align: right;\">\n",
       "      <th></th>\n",
       "      <th>name</th>\n",
       "      <th>bus</th>\n",
       "      <th>ps_mw</th>\n",
       "      <th>qs_mvar</th>\n",
       "      <th>qz_mvar</th>\n",
       "      <th>pz_mw</th>\n",
       "      <th>in_service</th>\n",
       "    </tr>\n",
       "  </thead>\n",
       "  <tbody>\n",
       "    <tr>\n",
       "      <th>0</th>\n",
       "      <td>network_equivalent</td>\n",
       "      <td>0</td>\n",
       "      <td>1.421085e-14</td>\n",
       "      <td>-3.552714e-13</td>\n",
       "      <td>-7.323852</td>\n",
       "      <td>0.616216</td>\n",
       "      <td>True</td>\n",
       "    </tr>\n",
       "    <tr>\n",
       "      <th>1</th>\n",
       "      <td>network_equivalent</td>\n",
       "      <td>4</td>\n",
       "      <td>2.162294e-02</td>\n",
       "      <td>6.009710e-01</td>\n",
       "      <td>-13.034482</td>\n",
       "      <td>-0.468978</td>\n",
       "      <td>True</td>\n",
       "    </tr>\n",
       "    <tr>\n",
       "      <th>2</th>\n",
       "      <td>network_equivalent</td>\n",
       "      <td>8</td>\n",
       "      <td>1.360951e-02</td>\n",
       "      <td>1.140204e+00</td>\n",
       "      <td>-14.987043</td>\n",
       "      <td>-0.178873</td>\n",
       "      <td>True</td>\n",
       "    </tr>\n",
       "  </tbody>\n",
       "</table>\n",
       "</div>"
      ],
      "text/plain": [
       "                 name  bus         ps_mw       qs_mvar    qz_mvar     pz_mw  \\\n",
       "0  network_equivalent    0  1.421085e-14 -3.552714e-13  -7.323852  0.616216   \n",
       "1  network_equivalent    4  2.162294e-02  6.009710e-01 -13.034482 -0.468978   \n",
       "2  network_equivalent    8  1.360951e-02  1.140204e+00 -14.987043 -0.178873   \n",
       "\n",
       "   in_service  \n",
       "0        True  \n",
       "1        True  \n",
       "2        True  "
      ]
     },
     "execution_count": 31,
     "metadata": {},
     "output_type": "execute_result"
    }
   ],
   "source": [
    "net_eq.ward"
   ]
  },
  {
   "cell_type": "code",
   "execution_count": 32,
   "metadata": {},
   "outputs": [
    {
     "data": {
      "text/html": [
       "<div>\n",
       "<style scoped>\n",
       "    .dataframe tbody tr th:only-of-type {\n",
       "        vertical-align: middle;\n",
       "    }\n",
       "\n",
       "    .dataframe tbody tr th {\n",
       "        vertical-align: top;\n",
       "    }\n",
       "\n",
       "    .dataframe thead th {\n",
       "        text-align: right;\n",
       "    }\n",
       "</style>\n",
       "<table border=\"1\" class=\"dataframe\">\n",
       "  <thead>\n",
       "    <tr style=\"text-align: right;\">\n",
       "      <th></th>\n",
       "      <th>p_mw</th>\n",
       "      <th>q_mvar</th>\n",
       "      <th>vm_pu</th>\n",
       "    </tr>\n",
       "  </thead>\n",
       "  <tbody>\n",
       "    <tr>\n",
       "      <th>0</th>\n",
       "      <td>0.616216</td>\n",
       "      <td>-7.323852</td>\n",
       "      <td>1.000000</td>\n",
       "    </tr>\n",
       "    <tr>\n",
       "      <th>1</th>\n",
       "      <td>-0.424632</td>\n",
       "      <td>-11.801937</td>\n",
       "      <td>0.975472</td>\n",
       "    </tr>\n",
       "    <tr>\n",
       "      <th>2</th>\n",
       "      <td>-0.150424</td>\n",
       "      <td>-12.603485</td>\n",
       "      <td>0.957621</td>\n",
       "    </tr>\n",
       "  </tbody>\n",
       "</table>\n",
       "</div>"
      ],
      "text/plain": [
       "       p_mw     q_mvar     vm_pu\n",
       "0  0.616216  -7.323852  1.000000\n",
       "1 -0.424632 -11.801937  0.975472\n",
       "2 -0.150424 -12.603485  0.957621"
      ]
     },
     "execution_count": 32,
     "metadata": {},
     "output_type": "execute_result"
    }
   ],
   "source": [
    "net_eq.res_ward"
   ]
  }
 ],
 "metadata": {
  "kernelspec": {
   "display_name": "Python 3",
   "language": "python",
   "name": "python3"
  },
  "language_info": {
   "codemirror_mode": {
    "name": "ipython",
    "version": 3
   },
   "file_extension": ".py",
   "mimetype": "text/x-python",
   "name": "python",
   "nbconvert_exporter": "python",
   "pygments_lexer": "ipython3",
   "version": "3.11.2"
  },
  "orig_nbformat": 4,
  "vscode": {
   "interpreter": {
    "hash": "0778b2c0c0fa361f993cfe8f37eb7732cf563f2dc4a5ec3745b179f0cd06f39a"
   }
  }
 },
 "nbformat": 4,
 "nbformat_minor": 2
}

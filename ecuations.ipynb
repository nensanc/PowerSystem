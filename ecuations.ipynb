{
 "cells": [
  {
   "cell_type": "code",
   "execution_count": 1,
   "metadata": {},
   "outputs": [
    {
     "data": {
      "text/plain": [
       "This pandapower network includes the following parameter tables:\n",
       "   - bus (39 elements)\n",
       "   - load (21 elements)\n",
       "   - gen (9 elements)\n",
       "   - ext_grid (1 element)\n",
       "   - line (35 elements)\n",
       "   - trafo (11 elements)\n",
       "   - poly_cost (10 elements)\n",
       "   - bus_geodata (39 elements)\n",
       " and the following results tables:\n",
       "   - res_bus (39 elements)\n",
       "   - res_line (35 elements)\n",
       "   - res_trafo (11 elements)\n",
       "   - res_ext_grid (1 element)\n",
       "   - res_load (21 elements)\n",
       "   - res_gen (9 elements)"
      ]
     },
     "execution_count": 1,
     "metadata": {},
     "output_type": "execute_result"
    }
   ],
   "source": [
    "# Definición de variables \n",
    "import pandapower.networks as pp_net\n",
    "import pandapower as pp\n",
    "# cargamos el modelo eléctrico \n",
    "net = pp_net.case39()\n",
    "#net.sn_mva = 1.0\n",
    "pp.runpp(net)\n",
    "net"
   ]
  },
  {
   "cell_type": "code",
   "execution_count": 6,
   "metadata": {},
   "outputs": [
    {
     "data": {
      "text/plain": [
       "[0,\n",
       " 1,\n",
       " 2,\n",
       " 3,\n",
       " 4,\n",
       " 5,\n",
       " 6,\n",
       " 7,\n",
       " 8,\n",
       " 9,\n",
       " 10,\n",
       " 11,\n",
       " 12,\n",
       " 13,\n",
       " 14,\n",
       " 15,\n",
       " 16,\n",
       " 17,\n",
       " 18,\n",
       " 19,\n",
       " 20,\n",
       " 21,\n",
       " 22,\n",
       " 23,\n",
       " 24,\n",
       " 25,\n",
       " 26,\n",
       " 27,\n",
       " 28,\n",
       " 29,\n",
       " 30,\n",
       " 31,\n",
       " 32,\n",
       " 33,\n",
       " 34]"
      ]
     },
     "execution_count": 6,
     "metadata": {},
     "output_type": "execute_result"
    }
   ],
   "source": [
    "list(net.line.index.values)"
   ]
  },
  {
   "cell_type": "code",
   "execution_count": 5,
   "metadata": {},
   "outputs": [],
   "source": [
    "from pyomo.environ import *\n",
    "\n",
    "model = ConcreteModel()\n",
    "model.i = Set(initialize=[1,2,3,4], doc='Buses')\n",
    "model.j = Set(initialize=[1,2,3,4], doc='Buses')\n",
    "model.c = Set(initialize=[1,2,3], doc='Lines')\n",
    "model.t = Set(initialize=[1,2,3,4,5], doc='Time')\n",
    "\n",
    "model.V_LineP = Var(model.i, model.j, model.c, model.t, within=NonNegativeReals, doc='Real power flowing from bus i towards bus j on line c at time t')\n"
   ]
  },
  {
   "cell_type": "code",
   "execution_count": 21,
   "metadata": {},
   "outputs": [],
   "source": [
    "model.Nodes = Set()"
   ]
  },
  {
   "cell_type": "code",
   "execution_count": null,
   "metadata": {},
   "outputs": [],
   "source": [
    "model.Arcs = Set(within=model.Nodes*model.Nodes)"
   ]
  },
  {
   "cell_type": "code",
   "execution_count": 19,
   "metadata": {},
   "outputs": [
    {
     "name": "stdout",
     "output_type": "stream",
     "text": [
      "Arcs : Size=1, Index=None, Ordered=Insertion\n",
      "    Key  : Dimen : Domain      : Size : Members\n",
      "    None :     2 : Arcs_domain :    0 :      {}\n"
     ]
    }
   ],
   "source": [
    "model.Arcs.display()"
   ]
  },
  {
   "cell_type": "code",
   "execution_count": 7,
   "metadata": {},
   "outputs": [],
   "source": [
    "branchstatus = dict(\n",
    "    ((net.line.iloc[c]['from_bus'],net.line.iloc[c]['to_bus'],c), \n",
    "    net.line.iloc[c]['in_service']) \n",
    "    for c in range(net.line.shape[0])\n",
    "    )"
   ]
  },
  {
   "cell_type": "code",
   "execution_count": null,
   "metadata": {},
   "outputs": [],
   "source": [
    "from pyomo.environ import *\n",
    "\n",
    "model = ConcreteModel()\n",
    "\n",
    "model.x = Var(model.i, model.j, model.c,model.t, within=Binary)\n",
    "\n",
    "model.V_LineP = Var(model.i, model.j, model.c,model.t, bounds=(0,1000),doc='Real power flowing from bus i towards bus j on line c at time t')\n",
    "\n",
    "# Set the allowed combinations\n",
    "allowed_combinations = [ (0,1,2,3), (1,2,3,4), (4,5,6,7) ]\n",
    "\n",
    "def V_LineP_restriction(model, i, j, c, t):\n",
    "    if (i,j,c,t) in allowed_combinations:\n",
    "        return model.x[i,j,c,t]*model.V_LineP[i,j,c,t] <=1000\n",
    "    else:\n",
    "        return Constraint.Skip\n",
    "\n",
    "model.V_LineP_restriction = Constraint(model.i, model.j, model.c,model.t, rule=V_LineP_restriction)\n",
    "\n",
    "def only_one_active(model):\n",
    "    return sum(model.x[i,j,c,t] for i,j,c,t in allowed_combinations) <= 1\n",
    "\n",
    "model.only_one_active = Constraint(rule=only_one_active)\n"
   ]
  }
 ],
 "metadata": {
  "interpreter": {
   "hash": "335eef8300635c137e0d6d4a807f84d745e47f75ca7d1f924a9d868b72d3727e"
  },
  "kernelspec": {
   "display_name": "Python 3.8.10 ('env': venv)",
   "language": "python",
   "name": "python3"
  },
  "language_info": {
   "codemirror_mode": {
    "name": "ipython",
    "version": 3
   },
   "file_extension": ".py",
   "mimetype": "text/x-python",
   "name": "python",
   "nbconvert_exporter": "python",
   "pygments_lexer": "ipython3",
   "version": "3.8.10"
  },
  "orig_nbformat": 4
 },
 "nbformat": 4,
 "nbformat_minor": 2
}

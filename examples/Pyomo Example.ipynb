{
 "cells": [
  {
   "cell_type": "markdown",
   "metadata": {},
   "source": [
    "# Pyomo Examples "
   ]
  },
  {
   "cell_type": "code",
   "execution_count": 1,
   "metadata": {},
   "outputs": [],
   "source": [
    "import pyomo.environ as pyomo\n",
    "import numpy as np"
   ]
  },
  {
   "cell_type": "code",
   "execution_count": 2,
   "metadata": {},
   "outputs": [
    {
     "name": "stdout",
     "output_type": "stream",
     "text": [
      "Result= x1 + x2\n"
     ]
    }
   ],
   "source": [
    "model = pyomo.ConcreteModel();\n",
    "\n",
    "#Variable declaration\n",
    "model.x1 = pyomo.Var();\n",
    "model.x2 = pyomo.Var();\n",
    "\n",
    "#Objective function definition\n",
    "def objetive(model):\n",
    "    result = np.sum(np.array([model.find_component('x%s'%i) for i in range(1,3)]))\n",
    "    print('Result= %s'%(result))\n",
    "    return result\n",
    "model.obj = pyomo.Objective(expr=objetive, sense = pyomo.minimize);\n",
    "\n",
    "#Constraint definition\n",
    "def rule1(model):\n",
    "    return 7*model.x1 + 2*model.x2 >= 28\n",
    "model.eq1 = pyomo.Constraint(rule = rule1, doc = 'Constraint  1');\n",
    "\n",
    "def rule2(model):\n",
    "    result = np.sum(np.array([model.x1, model.x2]))\n",
    "    return result >= 24\n",
    "model.eq2 = pyomo.Constraint(rule = rule2, doc = 'Constraint 2');"
   ]
  },
  {
   "cell_type": "code",
   "execution_count": 4,
   "metadata": {},
   "outputs": [],
   "source": [
    "#Solver options\n",
    "results = pyomo.SolverFactory('solver/couenne').solve(model);"
   ]
  },
  {
   "cell_type": "code",
   "execution_count": 5,
   "metadata": {},
   "outputs": [
    {
     "name": "stdout",
     "output_type": "stream",
     "text": [
      "# ==========================================================\n",
      "# = Solver Results                                         =\n",
      "# ==========================================================\n",
      "# ----------------------------------------------------------\n",
      "#   Problem Information\n",
      "# ----------------------------------------------------------\n",
      "Problem: \n",
      "- Lower bound: -inf\n",
      "  Upper bound: inf\n",
      "  Number of objectives: 1\n",
      "  Number of constraints: 0\n",
      "  Number of variables: 2\n",
      "  Sense: unknown\n",
      "# ----------------------------------------------------------\n",
      "#   Solver Information\n",
      "# ----------------------------------------------------------\n",
      "Solver: \n",
      "- Status: ok\n",
      "  Message: couenne\\x3a Optimal\n",
      "  Termination condition: optimal\n",
      "  Id: 3\n",
      "  Error rc: 0\n",
      "  Time: 0.0675351619720459\n",
      "# ----------------------------------------------------------\n",
      "#   Solution Information\n",
      "# ----------------------------------------------------------\n",
      "Solution: \n",
      "- number of solutions: 0\n",
      "  number of solutions displayed: 0\n",
      "\n",
      " RESULTS \n",
      "\n",
      "Cost of advertisement campaign =  23.99999976001\n",
      "Number of comedy ads purchased =  -3.9439915861340853\n",
      "Number of football ads purchased =  27.943991346144085\n"
     ]
    }
   ],
   "source": [
    "results.write()\n",
    "print(\"\\n RESULTS \\n\");\n",
    "\n",
    "print('Cost of advertisement campaign = ', model.obj())\n",
    "print(\"Number of comedy ads purchased = \", model.x1())\n",
    "print(\"Number of football ads purchased = \", model.x2())"
   ]
  },
  {
   "cell_type": "code",
   "execution_count": 6,
   "metadata": {},
   "outputs": [
    {
     "ename": "NameError",
     "evalue": "name 'net' is not defined",
     "output_type": "error",
     "traceback": [
      "\u001b[0;31m---------------------------------------------------------------------------\u001b[0m",
      "\u001b[0;31mNameError\u001b[0m                                 Traceback (most recent call last)",
      "Cell \u001b[0;32mIn[6], line 1\u001b[0m\n\u001b[0;32m----> 1\u001b[0m \u001b[43mnet\u001b[49m\n",
      "\u001b[0;31mNameError\u001b[0m: name 'net' is not defined"
     ]
    }
   ],
   "source": [
    "net"
   ]
  }
 ],
 "metadata": {
  "interpreter": {
   "hash": "335eef8300635c137e0d6d4a807f84d745e47f75ca7d1f924a9d868b72d3727e"
  },
  "kernelspec": {
   "display_name": "Python 3.8.10 ('env': venv)",
   "language": "python",
   "name": "python3"
  },
  "language_info": {
   "codemirror_mode": {
    "name": "ipython",
    "version": 3
   },
   "file_extension": ".py",
   "mimetype": "text/x-python",
   "name": "python",
   "nbconvert_exporter": "python",
   "pygments_lexer": "ipython3",
   "version": "3.8.10"
  },
  "orig_nbformat": 4
 },
 "nbformat": 4,
 "nbformat_minor": 2
}

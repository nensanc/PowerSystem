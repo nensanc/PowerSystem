{
 "cells": [
  {
   "cell_type": "markdown",
   "metadata": {},
   "source": [
    "# Algoritmo mediante Pyomo y Pandapower para realizar optimización de potencia reactiva, multiárea y multiperiodo"
   ]
  },
  {
   "cell_type": "code",
   "execution_count": 14,
   "metadata": {},
   "outputs": [],
   "source": [
    "# librerías necesarias\n",
    "\n",
    "import pyomo.environ as pyomo\n",
    "import pandapower as pp\n",
    "import pandapower.grid_equivalents as ge\n",
    "import pandapower.networks as pp_net\n",
    "import numpy as np"
   ]
  },
  {
   "cell_type": "code",
   "execution_count": 15,
   "metadata": {},
   "outputs": [
    {
     "data": {
      "text/plain": [
       "This pandapower network includes the following parameter tables:\n",
       "   - bus (39 elements)\n",
       "   - load (21 elements)\n",
       "   - gen (9 elements)\n",
       "   - ext_grid (1 element)\n",
       "   - line (35 elements)\n",
       "   - trafo (11 elements)\n",
       "   - poly_cost (10 elements)\n",
       "   - bus_geodata (39 elements)\n",
       " and the following results tables:\n",
       "   - res_bus (39 elements)\n",
       "   - res_line (35 elements)\n",
       "   - res_trafo (11 elements)\n",
       "   - res_ext_grid (1 element)\n",
       "   - res_load (21 elements)\n",
       "   - res_gen (9 elements)"
      ]
     },
     "execution_count": 15,
     "metadata": {},
     "output_type": "execute_result"
    }
   ],
   "source": [
    "# cargamos el modelo eléctrico \n",
    "net = pp_net.case39()\n",
    "net.sn_mva = 1.0\n",
    "net.load['p_mw'] = 0.75*net.load['p_mw']\n",
    "net.load['q_mvar'] = 0.75*net.load['q_mvar']\n",
    "pp.runpp(net)\n",
    "net"
   ]
  },
  {
   "cell_type": "code",
   "execution_count": 16,
   "metadata": {},
   "outputs": [],
   "source": [
    "# ajustamos los límites de Taps de los trafos\n",
    "tab_minimo = 1\n",
    "tab_neutral = 9\n",
    "tab_maximo = 21\n",
    "net.trafo['tap_min'] = net.trafo['tap_min'].replace([np.nan], tab_minimo)\n",
    "net.trafo['tap_max'] = net.trafo['tap_max'].replace([np.nan], tab_maximo)\n",
    "net.trafo['tap_neutral'] = net.trafo['tap_neutral'].replace([0], tab_neutral)"
   ]
  },
  {
   "cell_type": "code",
   "execution_count": 17,
   "metadata": {},
   "outputs": [],
   "source": [
    "# variables iniciales \n",
    "pp.runpp(net)\n",
    "ten_init = np.array(net.res_bus['vm_pu'])\n",
    "mvar_base = np.array(net.res_gen['q_mvar'])\n",
    "mvar_max = np.array(net.gen['max_q_mvar'])\n",
    "cant_gen = net.gen.shape[0]\n",
    "cant_trafo = net.trafo.shape[0]"
   ]
  },
  {
   "cell_type": "code",
   "execution_count": 18,
   "metadata": {},
   "outputs": [],
   "source": [
    "# creamos el modelo de optimización\n",
    "model = pyomo.ConcreteModel();"
   ]
  },
  {
   "cell_type": "code",
   "execution_count": 19,
   "metadata": {},
   "outputs": [],
   "source": [
    "# creamos las variables del modelo, Tap de trafos\n",
    "for i in range(cant_trafo):\n",
    "    model.add_component('tab_trafo_%s'%i, pyomo.Var(\n",
    "        within=pyomo.PositiveIntegers, \n",
    "        bounds=(net.trafo.at[i, 'tap_min'], net.trafo.at[i, 'tap_max']), \n",
    "        initialize=net.trafo.at[i, 'tap_pos']\n",
    "    ))"
   ]
  },
  {
   "cell_type": "code",
   "execution_count": 20,
   "metadata": {},
   "outputs": [],
   "source": [
    "# creamos las variables del modelo, setpoint generación\n",
    "for i in range(cant_gen):\n",
    "    model.add_component('setpoint_gen_%s'%i, pyomo.Var(\n",
    "        within=pyomo.PositiveReals, \n",
    "        bounds=(0.8, 1.2), \n",
    "        initialize=net.gen.at[i, 'vm_pu']\n",
    "    ))"
   ]
  },
  {
   "cell_type": "code",
   "execution_count": 25,
   "metadata": {},
   "outputs": [
    {
     "name": "stdout",
     "output_type": "stream",
     "text": [
      "WARNING: Implicitly replacing the Component attribute obj (type=<class\n",
      "    'pyomo.core.base.objective.ScalarObjective'>) on block unknown with a new\n",
      "    Component (type=<class 'pyomo.core.base.objective.ScalarObjective'>). This\n",
      "    is usually indicative of a modelling error. To avoid this warning, use\n",
      "    block.del_component() and block.add_component().\n",
      "Result= 9.0\n"
     ]
    }
   ],
   "source": [
    "#Objective function definition\n",
    "def objetive(model):\n",
    "    pp.runpp(net)\n",
    "    #tap_trafos = [model.find_component('tab_trafo_%s'%i)\n",
    "    #                        for i in range(cant_trafo)]\n",
    "    net.trafo['tap_pos'] = [model.-find_component('tab_trafo_%s'%i)\n",
    "                            for i in range(cant_trafo)]\n",
    "    #setpoint_gen = [model.find_component('setpoint_gen_%s'%i)\n",
    "    #                    for i in range(cant_gen)]\n",
    "    net.gen['vm_pu'] = [model.find_component('setpoint_gen_%s'%i)\n",
    "                        for i in range(cant_gen)]\n",
    "    change_ten = np.sum(\n",
    "        np.square(ten_init - np.array(net.res_bus['vm_pu']))\n",
    "    ) \n",
    "    change_mvar = np.sum(\n",
    "        np.square(np.array(net.res_gen['q_mvar']) / mvar_base)\n",
    "    )\n",
    "    print('Result= %s'%(change_ten + change_mvar))\n",
    "    return change_ten + change_mvar\n",
    "model.obj = pyomo.Objective(expr=objetive, sense = pyomo.minimize)"
   ]
  },
  {
   "cell_type": "code",
   "execution_count": 26,
   "metadata": {},
   "outputs": [
    {
     "name": "stdout",
     "output_type": "stream",
     "text": [
      "WARNING: Implicitly replacing the Component attribute eq1 (type=<class\n",
      "    'pyomo.core.base.constraint.ScalarConstraint'>) on block unknown with a\n",
      "    new Component (type=<class\n",
      "    'pyomo.core.base.constraint.AbstractScalarConstraint'>). This is usually\n",
      "    indicative of a modelling error. To avoid this warning, use\n",
      "    block.del_component() and block.add_component().\n"
     ]
    }
   ],
   "source": [
    "#Constraint definition\n",
    "def rule1(model):\n",
    "    result = np.sum(np.array([model.find_component('tab_trafo_%s'%i)\n",
    "                            for i in range(cant_trafo)]))\n",
    "    return result<=200\n",
    "model.eq1 = pyomo.Constraint(rule = rule1, doc = 'Constraint 1')"
   ]
  },
  {
   "cell_type": "code",
   "execution_count": 27,
   "metadata": {},
   "outputs": [],
   "source": [
    "#Solver options\n",
    "results = pyomo.SolverFactory('solver/bonmin').solve(model);"
   ]
  },
  {
   "cell_type": "code",
   "execution_count": null,
   "metadata": {},
   "outputs": [],
   "source": [
    "results.write()\n",
    "print(\"\\n RESULTS \\n\");\n",
    "\n",
    "print('Cost of advertisement campaign = ', model.obj())\n",
    "for i in range(cant_trafo):\n",
    "    print('trafo_%s tap = '%i, model.find_component('tab_trafo_%s'%i).value)\n",
    "for i in range(cant_gen):\n",
    "    print('gen_%s setpint = '%i, model.find_component('setpoint_gen_%s'%i).value)\n"
   ]
  },
  {
   "cell_type": "code",
   "execution_count": 45,
   "metadata": {},
   "outputs": [
    {
     "name": "stdout",
     "output_type": "stream",
     "text": [
      "WARNING: Element 1.0 already exists in Set FiniteScalarSet; no action taken\n",
      "ERROR: Rule failed when generating expression for Constraint contrains_0 with\n",
      "    index None: ValueError: Constraint 'contrains_0' does not have a proper\n",
      "    value. Found 'True' Expecting a tuple or relational expression. Examples:\n",
      "       sum(model.costs) == model.income (0, model.price[item], 50)\n",
      "ERROR: Constructing component 'contrains_0' from data=None failed: ValueError:\n",
      "    Constraint 'contrains_0' does not have a proper value. Found 'True'\n",
      "    Expecting a tuple or relational expression. Examples:\n",
      "       sum(model.costs) == model.income (0, model.price[item], 50)\n"
     ]
    },
    {
     "ename": "ValueError",
     "evalue": "Constraint 'contrains_0' does not have a proper value. Found 'True'\nExpecting a tuple or relational expression. Examples:\n   sum(model.costs) == model.income\n   (0, model.price[item], 50)",
     "output_type": "error",
     "traceback": [
      "\u001b[0;31m---------------------------------------------------------------------------\u001b[0m",
      "\u001b[0;31mValueError\u001b[0m                                Traceback (most recent call last)",
      "Cell \u001b[0;32mIn[45], line 30\u001b[0m\n\u001b[1;32m     21\u001b[0m \u001b[38;5;66;03m# agregar restricciones de demanda de potencia y capacidad de la red\u001b[39;00m\n\u001b[1;32m     22\u001b[0m \u001b[38;5;28;01mfor\u001b[39;00m i \u001b[38;5;129;01min\u001b[39;00m net\u001b[38;5;241m.\u001b[39mbus\u001b[38;5;241m.\u001b[39mindex:\n\u001b[1;32m     23\u001b[0m     \u001b[38;5;66;03m# model.bus_power_demand = pyo.Constraint(\u001b[39;00m\n\u001b[1;32m     24\u001b[0m     \u001b[38;5;66;03m#     expr=sum(\u001b[39;00m\n\u001b[0;32m   (...)\u001b[0m\n\u001b[1;32m     28\u001b[0m     \u001b[38;5;66;03m#     >= net.bus.loc[i, \"pd\"]\u001b[39;00m\n\u001b[1;32m     29\u001b[0m     \u001b[38;5;66;03m# )\u001b[39;00m\n\u001b[0;32m---> 30\u001b[0m     \u001b[43mmodel\u001b[49m\u001b[38;5;241;43m.\u001b[39;49m\u001b[43madd_component\u001b[49m\u001b[43m(\u001b[49m\u001b[38;5;124;43m\"\u001b[39;49m\u001b[38;5;124;43mcontrains_\u001b[39;49m\u001b[38;5;132;43;01m%s\u001b[39;49;00m\u001b[38;5;124;43m\"\u001b[39;49m\u001b[38;5;241;43m%\u001b[39;49m\u001b[43mi\u001b[49m\u001b[43m,\u001b[49m\u001b[43mpyo\u001b[49m\u001b[38;5;241;43m.\u001b[39;49m\u001b[43mConstraint\u001b[49m\u001b[43m(\u001b[49m\n\u001b[1;32m     31\u001b[0m \u001b[43m        \u001b[49m\u001b[43mexpr\u001b[49m\u001b[38;5;241;43m=\u001b[39;49m\u001b[38;5;28;43msum\u001b[39;49m\u001b[43m(\u001b[49m\n\u001b[1;32m     32\u001b[0m \u001b[43m            \u001b[49m\u001b[43mnet\u001b[49m\u001b[38;5;241;43m.\u001b[39;49m\u001b[43mgen\u001b[49m\u001b[38;5;241;43m.\u001b[39;49m\u001b[43mloc\u001b[49m\u001b[43m[\u001b[49m\u001b[43mj\u001b[49m\u001b[43m,\u001b[49m\u001b[43m \u001b[49m\u001b[38;5;124;43m\"\u001b[39;49m\u001b[38;5;124;43mp_mw\u001b[39;49m\u001b[38;5;124;43m\"\u001b[39;49m\u001b[43m]\u001b[49m\u001b[43m \u001b[49m\u001b[38;5;241;43m*\u001b[39;49m\u001b[43m \u001b[49m\u001b[43mmodel\u001b[49m\u001b[38;5;241;43m.\u001b[39;49m\u001b[43mq\u001b[49m\u001b[43m[\u001b[49m\u001b[43mj\u001b[49m\u001b[43m]\u001b[49m\n\u001b[1;32m     33\u001b[0m \u001b[43m            \u001b[49m\u001b[38;5;28;43;01mfor\u001b[39;49;00m\u001b[43m \u001b[49m\u001b[43mj\u001b[49m\u001b[43m \u001b[49m\u001b[38;5;129;43;01min\u001b[39;49;00m\u001b[43m \u001b[49m\u001b[43mnet\u001b[49m\u001b[38;5;241;43m.\u001b[39;49m\u001b[43mgen\u001b[49m\u001b[43m[\u001b[49m\u001b[43mnet\u001b[49m\u001b[38;5;241;43m.\u001b[39;49m\u001b[43mgen\u001b[49m\u001b[38;5;241;43m.\u001b[39;49m\u001b[43mbus\u001b[49m\u001b[43m \u001b[49m\u001b[38;5;241;43m==\u001b[39;49m\u001b[43m \u001b[49m\u001b[43mi\u001b[49m\u001b[43m]\u001b[49m\u001b[38;5;241;43m.\u001b[39;49m\u001b[43mindex\u001b[49m\n\u001b[1;32m     34\u001b[0m \u001b[43m        \u001b[49m\u001b[43m)\u001b[49m\n\u001b[1;32m     35\u001b[0m \u001b[43m        \u001b[49m\u001b[38;5;241;43m<\u001b[39;49m\u001b[38;5;241;43m=\u001b[39;49m\u001b[43m \u001b[49m\u001b[43mnet\u001b[49m\u001b[38;5;241;43m.\u001b[39;49m\u001b[43mres_bus\u001b[49m\u001b[38;5;241;43m.\u001b[39;49m\u001b[43mloc\u001b[49m\u001b[43m[\u001b[49m\u001b[43mi\u001b[49m\u001b[43m,\u001b[49m\u001b[43m \u001b[49m\u001b[38;5;124;43m\"\u001b[39;49m\u001b[38;5;124;43mvm_pu\u001b[39;49m\u001b[38;5;124;43m\"\u001b[39;49m\u001b[43m]\u001b[49m\u001b[43m \u001b[49m\u001b[38;5;241;43m*\u001b[39;49m\u001b[43m \u001b[49m\u001b[43mnet\u001b[49m\u001b[38;5;241;43m.\u001b[39;49m\u001b[43mbus\u001b[49m\u001b[38;5;241;43m.\u001b[39;49m\u001b[43mloc\u001b[49m\u001b[43m[\u001b[49m\u001b[43mi\u001b[49m\u001b[43m,\u001b[49m\u001b[43m \u001b[49m\u001b[38;5;124;43m\"\u001b[39;49m\u001b[38;5;124;43mmax_vm_pu\u001b[39;49m\u001b[38;5;124;43m\"\u001b[39;49m\u001b[43m]\u001b[49m\n\u001b[1;32m     36\u001b[0m \u001b[43m    \u001b[49m\u001b[43m)\u001b[49m\u001b[43m)\u001b[49m\n\u001b[1;32m     38\u001b[0m \u001b[38;5;66;03m# resolver el modelo de optimización con un solucionador de Pyomo\u001b[39;00m\n\u001b[1;32m     39\u001b[0m solver \u001b[38;5;241m=\u001b[39m pyo\u001b[38;5;241m.\u001b[39mSolverFactory(\u001b[38;5;124m\"\u001b[39m\u001b[38;5;124msolver/bonmin\u001b[39m\u001b[38;5;124m\"\u001b[39m)\n",
      "File \u001b[0;32m~/Documentos/Git-Hub/PowerSystem/env/lib/python3.8/site-packages/pyomo/core/base/block.py:1219\u001b[0m, in \u001b[0;36m_BlockData.add_component\u001b[0;34m(self, name, val)\u001b[0m\n\u001b[1;32m   <a href='file:///home/lucy/Documentos/Git-Hub/PowerSystem/env/lib/python3.8/site-packages/pyomo/core/base/block.py?line=1214'>1215</a>\u001b[0m     logger\u001b[39m.\u001b[39mdebug(\u001b[39m\"\u001b[39m\u001b[39mConstructing \u001b[39m\u001b[39m%s\u001b[39;00m\u001b[39m \u001b[39m\u001b[39m'\u001b[39m\u001b[39m%s\u001b[39;00m\u001b[39m'\u001b[39m\u001b[39m on \u001b[39m\u001b[39m%s\u001b[39;00m\u001b[39m from data=\u001b[39m\u001b[39m%s\u001b[39;00m\u001b[39m\"\u001b[39m,\n\u001b[1;32m   <a href='file:///home/lucy/Documentos/Git-Hub/PowerSystem/env/lib/python3.8/site-packages/pyomo/core/base/block.py?line=1215'>1216</a>\u001b[0m                  val\u001b[39m.\u001b[39m\u001b[39m__class__\u001b[39m\u001b[39m.\u001b[39m\u001b[39m__name__\u001b[39m, name,\n\u001b[1;32m   <a href='file:///home/lucy/Documentos/Git-Hub/PowerSystem/env/lib/python3.8/site-packages/pyomo/core/base/block.py?line=1216'>1217</a>\u001b[0m                  _blockName, \u001b[39mstr\u001b[39m(data))\n\u001b[1;32m   <a href='file:///home/lucy/Documentos/Git-Hub/PowerSystem/env/lib/python3.8/site-packages/pyomo/core/base/block.py?line=1217'>1218</a>\u001b[0m \u001b[39mtry\u001b[39;00m:\n\u001b[0;32m-> <a href='file:///home/lucy/Documentos/Git-Hub/PowerSystem/env/lib/python3.8/site-packages/pyomo/core/base/block.py?line=1218'>1219</a>\u001b[0m     val\u001b[39m.\u001b[39;49mconstruct(data)\n\u001b[1;32m   <a href='file:///home/lucy/Documentos/Git-Hub/PowerSystem/env/lib/python3.8/site-packages/pyomo/core/base/block.py?line=1219'>1220</a>\u001b[0m \u001b[39mexcept\u001b[39;00m:\n\u001b[1;32m   <a href='file:///home/lucy/Documentos/Git-Hub/PowerSystem/env/lib/python3.8/site-packages/pyomo/core/base/block.py?line=1220'>1221</a>\u001b[0m     err \u001b[39m=\u001b[39m sys\u001b[39m.\u001b[39mexc_info()[\u001b[39m1\u001b[39m]\n",
      "File \u001b[0;32m~/Documentos/Git-Hub/PowerSystem/env/lib/python3.8/site-packages/pyomo/core/base/disable_methods.py:116\u001b[0m, in \u001b[0;36mdisable_methods.<locals>.class_decorator.<locals>.construct\u001b[0;34m(self, data)\u001b[0m\n\u001b[1;32m    <a href='file:///home/lucy/Documentos/Git-Hub/PowerSystem/env/lib/python3.8/site-packages/pyomo/core/base/disable_methods.py?line=113'>114</a>\u001b[0m     \u001b[39mself\u001b[39m\u001b[39m.\u001b[39m_name \u001b[39m=\u001b[39m base\u001b[39m.\u001b[39m\u001b[39m__name__\u001b[39m\n\u001b[1;32m    <a href='file:///home/lucy/Documentos/Git-Hub/PowerSystem/env/lib/python3.8/site-packages/pyomo/core/base/disable_methods.py?line=114'>115</a>\u001b[0m \u001b[39mself\u001b[39m\u001b[39m.\u001b[39m\u001b[39m__class__\u001b[39m \u001b[39m=\u001b[39m base\n\u001b[0;32m--> <a href='file:///home/lucy/Documentos/Git-Hub/PowerSystem/env/lib/python3.8/site-packages/pyomo/core/base/disable_methods.py?line=115'>116</a>\u001b[0m \u001b[39mreturn\u001b[39;00m base\u001b[39m.\u001b[39;49mconstruct(\u001b[39mself\u001b[39;49m, data)\n",
      "File \u001b[0;32m~/Documentos/Git-Hub/PowerSystem/env/lib/python3.8/site-packages/pyomo/core/base/constraint.py:763\u001b[0m, in \u001b[0;36mConstraint.construct\u001b[0;34m(self, data)\u001b[0m\n\u001b[1;32m    <a href='file:///home/lucy/Documentos/Git-Hub/PowerSystem/env/lib/python3.8/site-packages/pyomo/core/base/constraint.py?line=759'>760</a>\u001b[0m     \u001b[39melse\u001b[39;00m:\n\u001b[1;32m    <a href='file:///home/lucy/Documentos/Git-Hub/PowerSystem/env/lib/python3.8/site-packages/pyomo/core/base/constraint.py?line=760'>761</a>\u001b[0m         \u001b[39m# Bypass the index validation and create the member directly\u001b[39;00m\n\u001b[1;32m    <a href='file:///home/lucy/Documentos/Git-Hub/PowerSystem/env/lib/python3.8/site-packages/pyomo/core/base/constraint.py?line=761'>762</a>\u001b[0m         \u001b[39mfor\u001b[39;00m index \u001b[39min\u001b[39;00m \u001b[39mself\u001b[39m\u001b[39m.\u001b[39mindex_set():\n\u001b[0;32m--> <a href='file:///home/lucy/Documentos/Git-Hub/PowerSystem/env/lib/python3.8/site-packages/pyomo/core/base/constraint.py?line=762'>763</a>\u001b[0m             \u001b[39mself\u001b[39;49m\u001b[39m.\u001b[39;49m_setitem_when_not_present(index, rule(block, index))\n\u001b[1;32m    <a href='file:///home/lucy/Documentos/Git-Hub/PowerSystem/env/lib/python3.8/site-packages/pyomo/core/base/constraint.py?line=763'>764</a>\u001b[0m \u001b[39mexcept\u001b[39;00m \u001b[39mException\u001b[39;00m:\n\u001b[1;32m    <a href='file:///home/lucy/Documentos/Git-Hub/PowerSystem/env/lib/python3.8/site-packages/pyomo/core/base/constraint.py?line=764'>765</a>\u001b[0m     err \u001b[39m=\u001b[39m sys\u001b[39m.\u001b[39mexc_info()[\u001b[39m1\u001b[39m]\n",
      "File \u001b[0;32m~/Documentos/Git-Hub/PowerSystem/env/lib/python3.8/site-packages/pyomo/core/base/indexed_component.py:1005\u001b[0m, in \u001b[0;36mIndexedComponent._setitem_when_not_present\u001b[0;34m(self, index, value)\u001b[0m\n\u001b[1;32m   <a href='file:///home/lucy/Documentos/Git-Hub/PowerSystem/env/lib/python3.8/site-packages/pyomo/core/base/indexed_component.py?line=1002'>1003</a>\u001b[0m \u001b[39mtry\u001b[39;00m:\n\u001b[1;32m   <a href='file:///home/lucy/Documentos/Git-Hub/PowerSystem/env/lib/python3.8/site-packages/pyomo/core/base/indexed_component.py?line=1003'>1004</a>\u001b[0m     \u001b[39mif\u001b[39;00m value \u001b[39mis\u001b[39;00m \u001b[39mnot\u001b[39;00m _NotSpecified:\n\u001b[0;32m-> <a href='file:///home/lucy/Documentos/Git-Hub/PowerSystem/env/lib/python3.8/site-packages/pyomo/core/base/indexed_component.py?line=1004'>1005</a>\u001b[0m         obj\u001b[39m.\u001b[39;49mset_value(value)\n\u001b[1;32m   <a href='file:///home/lucy/Documentos/Git-Hub/PowerSystem/env/lib/python3.8/site-packages/pyomo/core/base/indexed_component.py?line=1005'>1006</a>\u001b[0m \u001b[39mexcept\u001b[39;00m:\n\u001b[1;32m   <a href='file:///home/lucy/Documentos/Git-Hub/PowerSystem/env/lib/python3.8/site-packages/pyomo/core/base/indexed_component.py?line=1006'>1007</a>\u001b[0m     \u001b[39mself\u001b[39m\u001b[39m.\u001b[39m_data\u001b[39m.\u001b[39mpop(index, \u001b[39mNone\u001b[39;00m)\n",
      "File \u001b[0;32m~/Documentos/Git-Hub/PowerSystem/env/lib/python3.8/site-packages/pyomo/core/base/constraint.py:922\u001b[0m, in \u001b[0;36mScalarConstraint.set_value\u001b[0;34m(self, expr)\u001b[0m\n\u001b[1;32m    <a href='file:///home/lucy/Documentos/Git-Hub/PowerSystem/env/lib/python3.8/site-packages/pyomo/core/base/constraint.py?line=919'>920</a>\u001b[0m \u001b[39mif\u001b[39;00m \u001b[39mnot\u001b[39;00m \u001b[39mself\u001b[39m\u001b[39m.\u001b[39m_data:\n\u001b[1;32m    <a href='file:///home/lucy/Documentos/Git-Hub/PowerSystem/env/lib/python3.8/site-packages/pyomo/core/base/constraint.py?line=920'>921</a>\u001b[0m     \u001b[39mself\u001b[39m\u001b[39m.\u001b[39m_data[\u001b[39mNone\u001b[39;00m] \u001b[39m=\u001b[39m \u001b[39mself\u001b[39m\n\u001b[0;32m--> <a href='file:///home/lucy/Documentos/Git-Hub/PowerSystem/env/lib/python3.8/site-packages/pyomo/core/base/constraint.py?line=921'>922</a>\u001b[0m \u001b[39mreturn\u001b[39;00m \u001b[39msuper\u001b[39;49m(ScalarConstraint, \u001b[39mself\u001b[39;49m)\u001b[39m.\u001b[39;49mset_value(expr)\n",
      "File \u001b[0;32m~/Documentos/Git-Hub/PowerSystem/env/lib/python3.8/site-packages/pyomo/core/base/constraint.py:548\u001b[0m, in \u001b[0;36m_GeneralConstraintData.set_value\u001b[0;34m(self, expr)\u001b[0m\n\u001b[1;32m    <a href='file:///home/lucy/Documentos/Git-Hub/PowerSystem/env/lib/python3.8/site-packages/pyomo/core/base/constraint.py?line=540'>541</a>\u001b[0m     \u001b[39mif\u001b[39;00m \u001b[39mself\u001b[39m\u001b[39m.\u001b[39m_expr \u001b[39mis\u001b[39;00m \u001b[39mNone\u001b[39;00m:\n\u001b[1;32m    <a href='file:///home/lucy/Documentos/Git-Hub/PowerSystem/env/lib/python3.8/site-packages/pyomo/core/base/constraint.py?line=541'>542</a>\u001b[0m         msg \u001b[39m=\u001b[39m (\u001b[39m\"\u001b[39m\u001b[39mConstraint \u001b[39m\u001b[39m'\u001b[39m\u001b[39m%s\u001b[39;00m\u001b[39m'\u001b[39m\u001b[39m does not have a proper \u001b[39m\u001b[39m\"\u001b[39m\n\u001b[1;32m    <a href='file:///home/lucy/Documentos/Git-Hub/PowerSystem/env/lib/python3.8/site-packages/pyomo/core/base/constraint.py?line=542'>543</a>\u001b[0m                \u001b[39m\"\u001b[39m\u001b[39mvalue. Found \u001b[39m\u001b[39m'\u001b[39m\u001b[39m%s\u001b[39;00m\u001b[39m'\u001b[39m\u001b[39m\\n\u001b[39;00m\u001b[39mExpecting a tuple or \u001b[39m\u001b[39m\"\u001b[39m\n\u001b[1;32m    <a href='file:///home/lucy/Documentos/Git-Hub/PowerSystem/env/lib/python3.8/site-packages/pyomo/core/base/constraint.py?line=543'>544</a>\u001b[0m                \u001b[39m\"\u001b[39m\u001b[39mrelational expression. Examples:\u001b[39m\u001b[39m\"\u001b[39m\n\u001b[1;32m    <a href='file:///home/lucy/Documentos/Git-Hub/PowerSystem/env/lib/python3.8/site-packages/pyomo/core/base/constraint.py?line=544'>545</a>\u001b[0m                \u001b[39m\"\u001b[39m\u001b[39m\\n\u001b[39;00m\u001b[39m   sum(model.costs) == model.income\u001b[39m\u001b[39m\"\u001b[39m\n\u001b[1;32m    <a href='file:///home/lucy/Documentos/Git-Hub/PowerSystem/env/lib/python3.8/site-packages/pyomo/core/base/constraint.py?line=545'>546</a>\u001b[0m                \u001b[39m\"\u001b[39m\u001b[39m\\n\u001b[39;00m\u001b[39m   (0, model.price[item], 50)\u001b[39m\u001b[39m\"\u001b[39m\n\u001b[1;32m    <a href='file:///home/lucy/Documentos/Git-Hub/PowerSystem/env/lib/python3.8/site-packages/pyomo/core/base/constraint.py?line=546'>547</a>\u001b[0m                \u001b[39m%\u001b[39m (\u001b[39mself\u001b[39m\u001b[39m.\u001b[39mname, \u001b[39mstr\u001b[39m(expr)))\n\u001b[0;32m--> <a href='file:///home/lucy/Documentos/Git-Hub/PowerSystem/env/lib/python3.8/site-packages/pyomo/core/base/constraint.py?line=547'>548</a>\u001b[0m         \u001b[39mraise\u001b[39;00m \u001b[39mValueError\u001b[39;00m(msg)\n\u001b[1;32m    <a href='file:///home/lucy/Documentos/Git-Hub/PowerSystem/env/lib/python3.8/site-packages/pyomo/core/base/constraint.py?line=548'>549</a>\u001b[0m \u001b[39m#\u001b[39;00m\n\u001b[1;32m    <a href='file:///home/lucy/Documentos/Git-Hub/PowerSystem/env/lib/python3.8/site-packages/pyomo/core/base/constraint.py?line=549'>550</a>\u001b[0m \u001b[39m# Normalize the incoming expressions, if we can\u001b[39;00m\n\u001b[1;32m    <a href='file:///home/lucy/Documentos/Git-Hub/PowerSystem/env/lib/python3.8/site-packages/pyomo/core/base/constraint.py?line=550'>551</a>\u001b[0m \u001b[39m#\u001b[39;00m\n\u001b[1;32m    <a href='file:///home/lucy/Documentos/Git-Hub/PowerSystem/env/lib/python3.8/site-packages/pyomo/core/base/constraint.py?line=551'>552</a>\u001b[0m args \u001b[39m=\u001b[39m \u001b[39mself\u001b[39m\u001b[39m.\u001b[39m_expr\u001b[39m.\u001b[39margs\n",
      "\u001b[0;31mValueError\u001b[0m: Constraint 'contrains_0' does not have a proper value. Found 'True'\nExpecting a tuple or relational expression. Examples:\n   sum(model.costs) == model.income\n   (0, model.price[item], 50)"
     ]
    }
   ],
   "source": [
    "import pandapower as pp\n",
    "import pandapower.networks as nw\n",
    "import pyomo.environ as pyo\n",
    "\n",
    "# cargar una red eléctrica de ejemplo de pandapower\n",
    "net = nw.case9()\n",
    "pp.runpp(net)\n",
    "\n",
    "# crear un modelo de optimización con Pyomo\n",
    "model = pyo.ConcreteModel()\n",
    "\n",
    "# agregar variables de decisión para controlar la potencia reactiva de cada generador\n",
    "model.q = pyo.Var(net.gen['vm_pu'], within=pyo.Reals)\n",
    "\n",
    "# agregar una función objetivo para minimizar la diferencia entre el set point y la potencia reactiva entregada por cada generador\n",
    "model.objective = pyo.Objective(\n",
    "    expr=sum((model.q[i] - net.res_gen.loc[i, \"vm_pu\"])**2 for i in net.gen['vm_pu']),\n",
    "    sense=pyo.minimize\n",
    ")\n",
    "\n",
    "# agregar restricciones de demanda de potencia y capacidad de la red\n",
    "for i in net.bus.index:\n",
    "    # model.bus_power_demand = pyo.Constraint(\n",
    "    #     expr=sum(\n",
    "    #         net.gen.loc[j, \"s_nom\"] * model.q[j]\n",
    "    #         for j in net.gen[net.gen.bus == i].index\n",
    "    #     )\n",
    "    #     >= net.bus.loc[i, \"pd\"]\n",
    "    # )\n",
    "    model.add_component(\"contrains_%s\"%i,\n",
    "        pyo.Constraint(\n",
    "            expr=sum(\n",
    "                net.gen.loc[j, \"p_mw\"] * model.q[j]\n",
    "                for j in net.gen[net.gen.bus == i].index\n",
    "            )\n",
    "            <= net.res_bus.loc[i, \"vm_pu\"] * net.bus.loc[i, \"max_vm_pu\"]\n",
    "        )\n",
    "    )\n",
    "\n",
    "# resolver el modelo de optimización con un solucionador de Pyomo\n",
    "solver = pyo.SolverFactory(\"solver/bonmin\")\n",
    "results = solver.solve(model)\n",
    "\n",
    "# imprimir los resultados\n",
    "print(f\"Solución óptima: {model.objective()}\")\n",
    "print(\"Potencia reactiva entregada por cada generador:\")\n",
    "for i in net.gen.index:\n",
    "    print(f\"Generador {i}: {model.q[i].value} MVAr\")\n",
    "\n"
   ]
  },
  {
   "cell_type": "code",
   "execution_count": 42,
   "metadata": {},
   "outputs": [
    {
     "data": {
      "text/plain": [
       "<pyomo.core.base.var.IndexedVar at 0x7f0f9d715ac0>"
      ]
     },
     "execution_count": 42,
     "metadata": {},
     "output_type": "execute_result"
    }
   ],
   "source": [
    "model.q"
   ]
  },
  {
   "cell_type": "code",
   "execution_count": 38,
   "metadata": {},
   "outputs": [
    {
     "data": {
      "text/html": [
       "<div>\n",
       "<style scoped>\n",
       "    .dataframe tbody tr th:only-of-type {\n",
       "        vertical-align: middle;\n",
       "    }\n",
       "\n",
       "    .dataframe tbody tr th {\n",
       "        vertical-align: top;\n",
       "    }\n",
       "\n",
       "    .dataframe thead th {\n",
       "        text-align: right;\n",
       "    }\n",
       "</style>\n",
       "<table border=\"1\" class=\"dataframe\">\n",
       "  <thead>\n",
       "    <tr style=\"text-align: right;\">\n",
       "      <th></th>\n",
       "      <th>in_service</th>\n",
       "      <th>max_vm_pu</th>\n",
       "      <th>min_vm_pu</th>\n",
       "      <th>name</th>\n",
       "      <th>type</th>\n",
       "      <th>vn_kv</th>\n",
       "      <th>zone</th>\n",
       "    </tr>\n",
       "  </thead>\n",
       "  <tbody>\n",
       "    <tr>\n",
       "      <th>0</th>\n",
       "      <td>True</td>\n",
       "      <td>1.1</td>\n",
       "      <td>0.9</td>\n",
       "      <td>1</td>\n",
       "      <td>b</td>\n",
       "      <td>345.0</td>\n",
       "      <td>1.0</td>\n",
       "    </tr>\n",
       "    <tr>\n",
       "      <th>1</th>\n",
       "      <td>True</td>\n",
       "      <td>1.1</td>\n",
       "      <td>0.9</td>\n",
       "      <td>2</td>\n",
       "      <td>b</td>\n",
       "      <td>345.0</td>\n",
       "      <td>1.0</td>\n",
       "    </tr>\n",
       "    <tr>\n",
       "      <th>2</th>\n",
       "      <td>True</td>\n",
       "      <td>1.1</td>\n",
       "      <td>0.9</td>\n",
       "      <td>3</td>\n",
       "      <td>b</td>\n",
       "      <td>345.0</td>\n",
       "      <td>1.0</td>\n",
       "    </tr>\n",
       "    <tr>\n",
       "      <th>3</th>\n",
       "      <td>True</td>\n",
       "      <td>1.1</td>\n",
       "      <td>0.9</td>\n",
       "      <td>4</td>\n",
       "      <td>b</td>\n",
       "      <td>345.0</td>\n",
       "      <td>1.0</td>\n",
       "    </tr>\n",
       "    <tr>\n",
       "      <th>4</th>\n",
       "      <td>True</td>\n",
       "      <td>1.1</td>\n",
       "      <td>0.9</td>\n",
       "      <td>5</td>\n",
       "      <td>b</td>\n",
       "      <td>345.0</td>\n",
       "      <td>1.0</td>\n",
       "    </tr>\n",
       "    <tr>\n",
       "      <th>5</th>\n",
       "      <td>True</td>\n",
       "      <td>1.1</td>\n",
       "      <td>0.9</td>\n",
       "      <td>6</td>\n",
       "      <td>b</td>\n",
       "      <td>345.0</td>\n",
       "      <td>1.0</td>\n",
       "    </tr>\n",
       "    <tr>\n",
       "      <th>6</th>\n",
       "      <td>True</td>\n",
       "      <td>1.1</td>\n",
       "      <td>0.9</td>\n",
       "      <td>7</td>\n",
       "      <td>b</td>\n",
       "      <td>345.0</td>\n",
       "      <td>1.0</td>\n",
       "    </tr>\n",
       "    <tr>\n",
       "      <th>7</th>\n",
       "      <td>True</td>\n",
       "      <td>1.1</td>\n",
       "      <td>0.9</td>\n",
       "      <td>8</td>\n",
       "      <td>b</td>\n",
       "      <td>345.0</td>\n",
       "      <td>1.0</td>\n",
       "    </tr>\n",
       "    <tr>\n",
       "      <th>8</th>\n",
       "      <td>True</td>\n",
       "      <td>1.1</td>\n",
       "      <td>0.9</td>\n",
       "      <td>9</td>\n",
       "      <td>b</td>\n",
       "      <td>345.0</td>\n",
       "      <td>1.0</td>\n",
       "    </tr>\n",
       "  </tbody>\n",
       "</table>\n",
       "</div>"
      ],
      "text/plain": [
       "   in_service  max_vm_pu  min_vm_pu name type  vn_kv zone\n",
       "0        True        1.1        0.9    1    b  345.0  1.0\n",
       "1        True        1.1        0.9    2    b  345.0  1.0\n",
       "2        True        1.1        0.9    3    b  345.0  1.0\n",
       "3        True        1.1        0.9    4    b  345.0  1.0\n",
       "4        True        1.1        0.9    5    b  345.0  1.0\n",
       "5        True        1.1        0.9    6    b  345.0  1.0\n",
       "6        True        1.1        0.9    7    b  345.0  1.0\n",
       "7        True        1.1        0.9    8    b  345.0  1.0\n",
       "8        True        1.1        0.9    9    b  345.0  1.0"
      ]
     },
     "execution_count": 38,
     "metadata": {},
     "output_type": "execute_result"
    }
   ],
   "source": [
    "net.bus"
   ]
  },
  {
   "cell_type": "code",
   "execution_count": 41,
   "metadata": {},
   "outputs": [
    {
     "data": {
      "text/html": [
       "<div>\n",
       "<style scoped>\n",
       "    .dataframe tbody tr th:only-of-type {\n",
       "        vertical-align: middle;\n",
       "    }\n",
       "\n",
       "    .dataframe tbody tr th {\n",
       "        vertical-align: top;\n",
       "    }\n",
       "\n",
       "    .dataframe thead th {\n",
       "        text-align: right;\n",
       "    }\n",
       "</style>\n",
       "<table border=\"1\" class=\"dataframe\">\n",
       "  <thead>\n",
       "    <tr style=\"text-align: right;\">\n",
       "      <th></th>\n",
       "      <th>vm_pu</th>\n",
       "      <th>va_degree</th>\n",
       "      <th>p_mw</th>\n",
       "      <th>q_mvar</th>\n",
       "    </tr>\n",
       "  </thead>\n",
       "  <tbody>\n",
       "    <tr>\n",
       "      <th>0</th>\n",
       "      <td>1.000000</td>\n",
       "      <td>0.000000</td>\n",
       "      <td>-71.954702</td>\n",
       "      <td>-24.068958</td>\n",
       "    </tr>\n",
       "    <tr>\n",
       "      <th>1</th>\n",
       "      <td>1.000000</td>\n",
       "      <td>9.668741</td>\n",
       "      <td>-163.000000</td>\n",
       "      <td>-14.460120</td>\n",
       "    </tr>\n",
       "    <tr>\n",
       "      <th>2</th>\n",
       "      <td>1.000000</td>\n",
       "      <td>4.771073</td>\n",
       "      <td>-85.000000</td>\n",
       "      <td>3.649026</td>\n",
       "    </tr>\n",
       "    <tr>\n",
       "      <th>3</th>\n",
       "      <td>0.987007</td>\n",
       "      <td>-2.406644</td>\n",
       "      <td>0.000000</td>\n",
       "      <td>0.000000</td>\n",
       "    </tr>\n",
       "    <tr>\n",
       "      <th>4</th>\n",
       "      <td>0.975472</td>\n",
       "      <td>-4.017264</td>\n",
       "      <td>90.000000</td>\n",
       "      <td>30.000000</td>\n",
       "    </tr>\n",
       "    <tr>\n",
       "      <th>5</th>\n",
       "      <td>1.003375</td>\n",
       "      <td>1.925602</td>\n",
       "      <td>0.000000</td>\n",
       "      <td>0.000000</td>\n",
       "    </tr>\n",
       "    <tr>\n",
       "      <th>6</th>\n",
       "      <td>0.985645</td>\n",
       "      <td>0.621545</td>\n",
       "      <td>100.000000</td>\n",
       "      <td>35.000000</td>\n",
       "    </tr>\n",
       "    <tr>\n",
       "      <th>7</th>\n",
       "      <td>0.996185</td>\n",
       "      <td>3.799120</td>\n",
       "      <td>0.000000</td>\n",
       "      <td>0.000000</td>\n",
       "    </tr>\n",
       "    <tr>\n",
       "      <th>8</th>\n",
       "      <td>0.957621</td>\n",
       "      <td>-4.349934</td>\n",
       "      <td>125.000000</td>\n",
       "      <td>50.000000</td>\n",
       "    </tr>\n",
       "  </tbody>\n",
       "</table>\n",
       "</div>"
      ],
      "text/plain": [
       "      vm_pu  va_degree        p_mw     q_mvar\n",
       "0  1.000000   0.000000  -71.954702 -24.068958\n",
       "1  1.000000   9.668741 -163.000000 -14.460120\n",
       "2  1.000000   4.771073  -85.000000   3.649026\n",
       "3  0.987007  -2.406644    0.000000   0.000000\n",
       "4  0.975472  -4.017264   90.000000  30.000000\n",
       "5  1.003375   1.925602    0.000000   0.000000\n",
       "6  0.985645   0.621545  100.000000  35.000000\n",
       "7  0.996185   3.799120    0.000000   0.000000\n",
       "8  0.957621  -4.349934  125.000000  50.000000"
      ]
     },
     "execution_count": 41,
     "metadata": {},
     "output_type": "execute_result"
    }
   ],
   "source": [
    "net.res_bus"
   ]
  }
 ],
 "metadata": {
  "interpreter": {
   "hash": "335eef8300635c137e0d6d4a807f84d745e47f75ca7d1f924a9d868b72d3727e"
  },
  "kernelspec": {
   "display_name": "Python 3.8.10 ('env': venv)",
   "language": "python",
   "name": "python3"
  },
  "language_info": {
   "codemirror_mode": {
    "name": "ipython",
    "version": 3
   },
   "file_extension": ".py",
   "mimetype": "text/x-python",
   "name": "python",
   "nbconvert_exporter": "python",
   "pygments_lexer": "ipython3",
   "version": "3.8.10"
  },
  "orig_nbformat": 4
 },
 "nbformat": 4,
 "nbformat_minor": 2
}
